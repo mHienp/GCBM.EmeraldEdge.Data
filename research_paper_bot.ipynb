{
  "nbformat": 4,
  "nbformat_minor": 0,
  "metadata": {
    "colab": {
      "provenance": []
    },
    "kernelspec": {
      "name": "python3",
      "display_name": "Python 3"
    },
    "language_info": {
      "name": "python"
    }
  },
  "cells": [    
    {
      "cell_type": "markdown",
      "source": [
        "### Q & A"
      ],
      "metadata": {
        "id": "Xsmtw3f7CEDq"
      }
    },
    {
      "cell_type": "markdown",
      "source": [
        "Research paper: https://www.researchgate.net/publication/351631333_Old-growth_forest_structure_in_a_low-productivity_hypermaritime_rainforest_in_coastal_British_Columbia_Canada"
      ],
      "metadata": {
        "id": "Wkx9_Qe8IIZI"
      }
    },
    {
      "cell_type": "code",
      "source": [
        "with open('research.txt', 'r') as file:\n",
        "    text = file.read()"
      ],
      "metadata": {
        "id": "VuqYBVVK1nEO"
      },
      "execution_count": null,
      "outputs": []
    },
    {
      "cell_type": "code",
      "source": [
        "len(text)"
      ],
      "metadata": {
        "colab": {
          "base_uri": "https://localhost:8080/"
        },
        "id": "KyyQz2jpDFax",
        "outputId": "5b8c9657-c789-476d-a64c-3de2518b4849"
      },
      "execution_count": null,
      "outputs": [
        {
          "output_type": "execute_result",
          "data": {
            "text/plain": [
              "30130"
            ]
          },
          "metadata": {},
          "execution_count": 8
        }
      ]
    },
    {
      "cell_type": "code",
      "source": [
        "while True:\n",
        "  question = input(\"\\nHi, what would you like to know ? (type 'quit' to end session)\\n\")\n",
        "  if question.lower() == 'quit':\n",
        "    break\n",
        "\n",
        "  try:\n",
        "    max_sent = input(\"\\nSpecify the max number of sentences.\\n\")\n",
        "    output = process(text, question, max_sent)\n",
        "    if not output:\n",
        "      print(\"\\nIt seems I don't have this info. Please try another phrasing.\")\n",
        "    else:\n",
        "      visualize(question, output)\n",
        "  except ValueError:\n",
        "    print(\"\\nPlease enter a valid number.\")"
      ],
      "metadata": {
        "id": "BWk2AeRjD6-A",
        "colab": {
          "base_uri": "https://localhost:8080/",
          "height": 1000
        },
        "outputId": "390a1d88-ddac-4db9-a299-838662a70dc1"
      },
      "execution_count": 13,
      "outputs": [
        {
          "name": "stdout",
          "output_type": "stream",
          "text": [
            "\n",
            "Hi, what would you like to know ? (type 'quit' to end session)\n",
            "study site\n",
            "\n",
            "Specify the max number of sentences.\n",
            "3\n",
            "\nIt seems I don't have this info. Please try another phrasing.\n",
            "\n",
            "Hi, what would you like to know ? (type 'quit' to end session)\n",
            "study area\n",
            "\n",
            "Specify the max number of sentences.\n",
            "3\n"
          ]
        },
        {
          "output_type": "display_data",
          "data": {
            "text/plain": [
              "<IPython.core.display.HTML object>"
            ],
            "text/html": [
              "<h3 style=\"color: #036137;\">Answer - study area</h3>"
            ]
          },
          "metadata": {}
        },
        {
          "output_type": "display_data",
          "data": {
            "text/plain": [
              "<IPython.core.display.HTML object>"
            ],
            "text/html": [
              "<p>The study area is located within the hypermaritime subzone (CHWvh2) of the Coastal Western Hemlock biogeoclimatic classification.\n",
              "2d; CWHvh2/01) are characterized as being open and scrubby because of the hypermaritime climate yet represent comparatively productive stands for this study area.\n",
              "This indicates that fine-scale disturbances such as single-tree fall or standing dead trees are likely the most common disturbance type in the study area, similar to more productive landscapes of the CTR.<br></br></p><hr>"
            ]
          },
          "metadata": {}
        },
        {
          "name": "stdout",
          "output_type": "stream",
          "text": [
            "\n",
            "Hi, what would you like to know ? (type 'quit' to end session)\n",
            "tree species\n",
            "\n",
            "Specify the max number of sentences.\n",
            "3\n"
          ]
        },
        {
          "output_type": "display_data",
          "data": {
            "text/plain": [
              "<IPython.core.display.HTML object>"
            ],
            "text/html": [
              "<h3 style=\"color: #036137;\">Answer - tree species</h3>"
            ]
          },
          "metadata": {}
        },
        {
          "output_type": "display_data",
          "data": {
            "text/plain": [
              "<IPython.core.display.HTML object>"
            ],
            "text/html": [
              "<p>We calculated the density per hectare of all seedlings, saplings, and trees by species and vegetation type.\n",
              "Blanket bogs contained very few old trees, all of which were very small (<3 m height), and were comprised of only three tree species compared to the other vegetation types with up to six tree species present.\n",
              "All forest plots contained numerous old trees (>250 years) and the zonal forest and bog forest vegetation types contained significantly taller trees and also had the greatest amount of suppressed, shade-tolerant tree species.<br></br></p><hr>"
            ]
          },
          "metadata": {}
        },
        {
          "name": "stdout",
          "output_type": "stream",
          "text": [
            "\n",
            "Hi, what would you like to know ? (type 'quit' to end session)\n",
            "western hemlock\n",
            "\n",
            "Specify the max number of sentences.\n",
            "3\n"
          ]
        },
        {
          "output_type": "display_data",
          "data": {
            "text/plain": [
              "<IPython.core.display.HTML object>"
            ],
            "text/html": [
              "<h3 style=\"color: #036137;\">Answer - western hemlock</h3>"
            ]
          },
          "metadata": {}
        },
        {
          "output_type": "display_data",
          "data": {
            "text/plain": [
              "<IPython.core.display.HTML object>"
            ],
            "text/html": [
              "<p>Species are western redcedar (gray), yellowcedar (blue), western hemlock (green), shore pine (yellow), Sitka spruce (orange), and mountain hemlock (purple).\n",
              "Similarly, hypermaritime forests have been studied in Southeast Alaska, but it is unclear if knowledge from Alaska’s hemlock spruce-dominated forest stands are transferable to the cedar– hemlock stands of coastal BC.\n",
              "This suggests that western hemlock may be more shade tolerant or have greater physiological plasticity than western redcedar and yellow-cedar.<br></br></p><hr>"
            ]
          },
          "metadata": {}
        },
        {
          "name": "stdout",
          "output_type": "stream",
          "text": [
            "\n",
            "Hi, what would you like to know ? (type 'quit' to end session)\n",
            "age\n",
            "\n",
            "Specify the max number of sentences.\n",
            "3\n"
          ]
        },
        {
          "output_type": "display_data",
          "data": {
            "text/plain": [
              "<IPython.core.display.HTML object>"
            ],
            "text/html": [
              "<h3 style=\"color: #036137;\">Answer - age</h3>"
            ]
          },
          "metadata": {}
        },
        {
          "output_type": "display_data",
          "data": {
            "text/plain": [
              "<IPython.core.display.HTML object>"
            ],
            "text/html": [
              "<p>Multiple pairwise comparisons revealed significant differences between the median age of trees (>7.5 cm dbh) in the zonal forest, bog forest, and bog woodland vegetation types when compared to the median age of trees in the blanket bog vegetation type (P = 0.001; Fig.\n",
              "Significant differences in the ages of trees existed between forested vegetation types and the more open blanket bog vegetation type.\n",
              "We compared the density of tree species (>7.5 cm dbh) across four dbh categories and six age classes in every plot along with the density of regenerating tree species (<7.5 cm dbh) by six age classes in each subplot.<br></br></p><hr>"
            ]
          },
          "metadata": {}
        },
        {
          "name": "stdout",
          "output_type": "stream",
          "text": [
            "\n",
            "Hi, what would you like to know ? (type 'quit' to end session)\n",
            "stand growth\n",
            "\n",
            "Specify the max number of sentences.\n",
            "3\n"
          ]
        },
        {
          "output_type": "display_data",
          "data": {
            "text/plain": [
              "<IPython.core.display.HTML object>"
            ],
            "text/html": [
              "<h3 style=\"color: #036137;\">Answer - stand growth</h3>"
            ]
          },
          "metadata": {}
        },
        {
          "output_type": "display_data",
          "data": {
            "text/plain": [
              "<IPython.core.display.HTML object>"
            ],
            "text/html": [
              "<p>Stand establishment data in each plot were compared to the average radial growth of recorder trees in the previous 10-years period to assess growth releases in the R package TRADER.\n",
              "Similar to the effects of single-tree fall, senescence of long-lived western redcedar and yellow-cedar trees can promote pulses of regeneration and growth releases in light-limited stands even though the tree remains standing.\n",
              "Synchronous growth releases were identified as at least three trees in each plot recording a sustained growth release.<br></br></p><hr>"
            ]
          },
          "metadata": {}
        },
        {
          "name": "stdout",
          "output_type": "stream",
          "text": [
            "\n",
            "Hi, what would you like to know ? (type 'quit' to end session)\n",
            "old-growth\n",
            "\n",
            "Specify the max number of sentences.\n",
            "3\n"
          ]
        },
        {
          "output_type": "display_data",
          "data": {
            "text/plain": [
              "<IPython.core.display.HTML object>"
            ],
            "text/html": [
              "<h3 style=\"color: #036137;\">Answer - old-growth</h3>"
            ]
          },
          "metadata": {}
        },
        {
          "output_type": "display_data",
          "data": {
            "text/plain": [
              "<IPython.core.display.HTML object>"
            ],
            "text/html": [
              "<p>The combined density of old-growth trees (>7.5 cm dbh) across all vegetation types was approximately 170 stems per hectare.\n",
              "Our dendrochronological analyses sampled across four vegetation types characterized by a gradient of productivity revealed: (1) Forests were all multiage stands indicating fine-scale mortality events are the most common disturbance type, (2) rot-resistant standing dead western redcedar and yellow-cedar trees were commonplace, (3) tree size increased along the drainage gradient from blanket bogs to zonal forests, (4) the age, density, and species of trees regenerating were related to disturbance and life-history characteristics, and (5) old-growth trees were characterized by a range of heights and diameters, and legacy trees (those exceeding 1000 years) were most common in the bog forest and bog woodland vegetation types.\n",
              "We examined the structure, composition, and stand dynamics of trees growing in 400 m2 plots located in blanket bog, bog woodland, bog forest, and zonal forest vegetation types.<br></br></p><hr>"
            ]
          },
          "metadata": {}
        },
        {
          "name": "stdout",
          "output_type": "stream",
          "text": [
            "\n",
            "Hi, what would you like to know ? (type 'quit' to end session)\n",
            "stand dynamics\n",
            "\n",
            "Specify the max number of sentences.\n",
            "3\n"
          ]
        },
        {
          "output_type": "display_data",
          "data": {
            "text/plain": [
              "<IPython.core.display.HTML object>"
            ],
            "text/html": [
              "<h3 style=\"color: #036137;\">Answer - stand dynamics</h3>"
            ]
          },
          "metadata": {}
        },
        {
          "output_type": "display_data",
          "data": {
            "text/plain": [
              "<IPython.core.display.HTML object>"
            ],
            "text/html": [
              "<p>Our research provides important contributions to understanding stand structure and dynamics in extensive and understudied hypermaritime forests in the Pacific temperate rainforest region.\n",
              "In this study, we examined the structure, composition, and stand dynamics of low-productivity hypermaritime temperate rainforests and wetlands on the Central Coast of BC.\n",
              "We examined the structure, composition, and stand dynamics of trees growing in 400 m2 plots located in blanket bog, bog woodland, bog forest, and zonal forest vegetation types.<br></br></p><hr>"
            ]
          },
          "metadata": {}
        },
        {
          "name": "stdout",
          "output_type": "stream",
          "text": [
            "\n",
            "Hi, what would you like to know ? (type 'quit' to end session)\n",
            "dynamics\n",
            "\n",
            "Specify the max number of sentences.\n",
            "3\n"
          ]
        },
        {
          "output_type": "display_data",
          "data": {
            "text/plain": [
              "<IPython.core.display.HTML object>"
            ],
            "text/html": [
              "<h3 style=\"color: #036137;\">Answer - dynamics</h3>"
            ]
          },
          "metadata": {}
        },
        {
          "output_type": "display_data",
          "data": {
            "text/plain": [
              "<IPython.core.display.HTML object>"
            ],
            "text/html": [
              "<p>Natural and anthropogenic disturbances occur across temporal and spatial scales and play an important role in forest ecosystem dynamics.\n",
              "Our research provides important contributions to understanding stand structure and dynamics in extensive and understudied hypermaritime forests in the Pacific temperate rainforest region.\n",
              "In this study, we examined the structure, composition, and stand dynamics of low-productivity hypermaritime temperate rainforests and wetlands on the Central Coast of BC.<br></br></p><hr>"
            ]
          },
          "metadata": {}
        },
        {
          "name": "stdout",
          "output_type": "stream",
          "text": [
            "\n",
            "Hi, what would you like to know ? (type 'quit' to end session)\n",
            "low-productivity\n",
            "\n",
            "Specify the max number of sentences.\n",
            "3\n"
          ]
        },
        {
          "output_type": "display_data",
          "data": {
            "text/plain": [
              "<IPython.core.display.HTML object>"
            ],
            "text/html": [
              "<h3 style=\"color: #036137;\">Answer - low-productivity</h3>"
            ]
          },
          "metadata": {}
        },
        {
          "output_type": "display_data",
          "data": {
            "text/plain": [
              "<IPython.core.display.HTML object>"
            ],
            "text/html": [
              "<p>In this study, we examined the structure, composition, and stand dynamics of low-productivity hypermaritime temperate rainforests and wetlands on the Central Coast of BC.\n",
              "Dendrochronological analyses were conducted across a gradient of productivity and soil drainage quality characterizing four vegetation types in a low-productivity hypermaritime (perhumid) temperate rainforest on the Central Coast of British Columbia, Canada.\n",
              "The 12 plots contained no visible aboveground or belowground evidence of recent stand-replacing disturbances (fire, wind, mass wasting) or documented historical resource management by First Nations (culturally modified trees, shell middens, fire, land clearing).<br></br></p><hr>"
            ]
          },
          "metadata": {}
        },
        {
          "name": "stdout",
          "output_type": "stream",
          "text": [
            "\n",
            "Hi, what would you like to know ? (type 'quit' to end session)\n",
            "carbon\n",
            "\n",
            "Specify the max number of sentences.\n",
            "3\n"
          ]
        },
        {
          "output_type": "display_data",
          "data": {
            "text/plain": [
              "<IPython.core.display.HTML object>"
            ],
            "text/html": [
              "<h3 style=\"color: #036137;\">Answer - carbon</h3>"
            ]
          },
          "metadata": {}
        },
        {
          "output_type": "display_data",
          "data": {
            "text/plain": [
              "<IPython.core.display.HTML object>"
            ],
            "text/html": [
              "<p>Information on old-growth forest structure in hypermaritime temperate rainforests on the coastal margin of BC is scarce despite their importance for wildlife, soil carbon storage, and exports of dissolved organic carbon, which provide energy subsidies to marine environments.\n",
              "Despite low timber values, these old-growth hypermaritime forests contain large soil carbon stores and distinct biodiversity.\n",
              "The 12 plots contained no visible aboveground or belowground evidence of recent stand-replacing disturbances (fire, wind, mass wasting) or documented historical resource management by First Nations (culturally modified trees, shell middens, fire, land clearing).<br></br></p><hr>"
            ]
          },
          "metadata": {}
        },
        {
          "name": "stdout",
          "output_type": "stream",
          "text": [
            "\n",
            "Hi, what would you like to know ? (type 'quit' to end session)\n",
            "curve\n",
            "\n",
            "Specify the max number of sentences.\n",
            "3\n",
            "\nIt seems I don't have this info. Please try another phrasing.\n",
            "\n",
            "Hi, what would you like to know ? (type 'quit' to end session)\n",
            "merchantable volume\n",
            "\n",
            "Specify the max number of sentences.\n",
            "3\n",
            "\nIt seems I don't have this info. Please try another phrasing.\n",
            "\n",
            "Hi, what would you like to know ? (type 'quit' to end session)\n",
            "economic value\n",
            "\n",
            "Specify the max number of sentences.\n",
            "3\n"
          ]
        },
        {
          "output_type": "display_data",
          "data": {
            "text/plain": [
              "<IPython.core.display.HTML object>"
            ],
            "text/html": [
              "<h3 style=\"color: #036137;\">Answer - economic value</h3>"
            ]
          },
          "metadata": {}
        },
        {
          "output_type": "display_data",
          "data": {
            "text/plain": [
              "<IPython.core.display.HTML object>"
            ],
            "text/html": [
              "<p>Despite low timber values, these old-growth hypermaritime forests contain large soil carbon stores and distinct biodiversity.\n",
              "Field sampling\n",
              "  Terrestrial ecosystem maps and satellite imagery taken in 2012 were used to select the locations of 12 permanent plots (11.28 m radius, 0.04 ha) with a stratified random\tsampling design representing the four vegetation types on Calvert and Hecate Islands.\n",
              "All saplings (<7.5 cm dbh, >15 cm height) and seedlings (<15 cm height) were characterized (by species, height, and dbh), counted, and then destructively sampled in five, 4-m2 subplots.<br></br></p><hr>"
            ]
          },
          "metadata": {}
        },
        {
          "name": "stdout",
          "output_type": "stream",
          "text": [
            "\n",
            "Hi, what would you like to know ? (type 'quit' to end session)\n",
            "climate\n",
            "\n",
            "Specify the max number of sentences.\n",
            "3\n"
          ]
        },
        {
          "output_type": "display_data",
          "data": {
            "text/plain": [
              "<IPython.core.display.HTML object>"
            ],
            "text/html": [
              "<h3 style=\"color: #036137;\">Answer - climate</h3>"
            ]
          },
          "metadata": {}
        },
        {
          "output_type": "display_data",
          "data": {
            "text/plain": [
              "<IPython.core.display.HTML object>"
            ],
            "text/html": [
              "<p>This dynamic relationship between forested and bog ecosystems is strongly influenced by allogenic factors such as climate and local multi-scale disturbances.\n",
              "2d; CWHvh2/01) are characterized as being open and scrubby because of the hypermaritime climate yet represent comparatively productive stands for this study area.\n",
              "We assessed sustained growth releases of at least 15 years to identify canopy disturbances from the effects of favorable growing years associated with climate shifts.<br></br></p><hr>"
            ]
          },
          "metadata": {}
        },
        {
          "name": "stdout",
          "output_type": "stream",
          "text": [
            "\n",
            "Hi, what would you like to know ? (type 'quit' to end session)\n",
            "climate shifts\n",
            "\n",
            "Specify the max number of sentences.\n",
            "3\n"
          ]
        },
        {
          "output_type": "display_data",
          "data": {
            "text/plain": [
              "<IPython.core.display.HTML object>"
            ],
            "text/html": [
              "<h3 style=\"color: #036137;\">Answer - climate shifts</h3>"
            ]
          },
          "metadata": {}
        },
        {
          "output_type": "display_data",
          "data": {
            "text/plain": [
              "<IPython.core.display.HTML object>"
            ],
            "text/html": [
              "<p>We assessed sustained growth releases of at least 15 years to identify canopy disturbances from the effects of favorable growing years associated with climate shifts.\n",
              "This dynamic relationship between forested and bog ecosystems is strongly influenced by allogenic factors such as climate and local multi-scale disturbances.\n",
              "2d; CWHvh2/01) are characterized as being open and scrubby because of the hypermaritime climate yet represent comparatively productive stands for this study area.<br></br></p><hr>"
            ]
          },
          "metadata": {}
        },
        {
          "name": "stdout",
          "output_type": "stream",
          "text": [
            "\n",
            "Hi, what would you like to know ? (type 'quit' to end session)\n",
            "climate shift\n",
            "\n",
            "Specify the max number of sentences.\n",
            "3\n"
          ]
        },
        {
          "output_type": "display_data",
          "data": {
            "text/plain": [
              "<IPython.core.display.HTML object>"
            ],
            "text/html": [
              "<h3 style=\"color: #036137;\">Answer - climate shift</h3>"
            ]
          },
          "metadata": {}
        },
        {
          "output_type": "display_data",
          "data": {
            "text/plain": [
              "<IPython.core.display.HTML object>"
            ],
            "text/html": [
              "<p>We assessed sustained growth releases of at least 15 years to identify canopy disturbances from the effects of favorable growing years associated with climate shifts.\n",
              "This dynamic relationship between forested and bog ecosystems is strongly influenced by allogenic factors such as climate and local multi-scale disturbances.\n",
              "2d; CWHvh2/01) are characterized as being open and scrubby because of the hypermaritime climate yet represent comparatively productive stands for this study area.<br></br></p><hr>"
            ]
          },
          "metadata": {}
        },
        {
          "name": "stdout",
          "output_type": "stream",
          "text": [
            "\n",
            "Hi, what would you like to know ? (type 'quit' to end session)\n",
            "disturbance\n",
            "\n",
            "Specify the max number of sentences.\n",
            "3\n"
          ]
        },
        {
          "output_type": "display_data",
          "data": {
            "text/plain": [
              "<IPython.core.display.HTML object>"
            ],
            "text/html": [
              "<h3 style=\"color: #036137;\">Answer - disturbance</h3>"
            ]
          },
          "metadata": {}
        },
        {
          "output_type": "display_data",
          "data": {
            "text/plain": [
              "<IPython.core.display.HTML object>"
            ],
            "text/html": [
              "<p>This indicates that fine-scale disturbances such as single-tree fall or standing dead trees are likely the most common disturbance type in the study area, similar to more productive landscapes of the CTR.\n",
              "We found no evidence of widespread tree cohort establishment, indicating that small-scale disturbances such as individual tree mortality and gap-forming dynamics are likely the most frequent disturbance in the study area.\n",
              "Using a mean interval of 350 years almost certainly underestimates the period between stand-replacing disturbances in CTR; large-scale, stand-replacing disturbances such as lightning-caused fires and wind events are likely to be much less frequent.<br></br></p><hr>"
            ]
          },
          "metadata": {}
        },
        {
          "name": "stdout",
          "output_type": "stream",
          "text": [
            "\n",
            "Hi, what would you like to know ? (type 'quit' to end session)\n",
            "fire\n",
            "\n",
            "Specify the max number of sentences.\n",
            "3\n"
          ]
        },
        {
          "output_type": "display_data",
          "data": {
            "text/plain": [
              "<IPython.core.display.HTML object>"
            ],
            "text/html": [
              "<h3 style=\"color: #036137;\">Answer - fire</h3>"
            ]
          },
          "metadata": {}
        },
        {
          "output_type": "display_data",
          "data": {
            "text/plain": [
              "<IPython.core.display.HTML object>"
            ],
            "text/html": [
              "<p>The 12 plots contained no visible aboveground or belowground evidence of recent stand-replacing disturbances (fire, wind, mass wasting) or documented historical resource management by First Nations (culturally modified trees, shell middens, fire, land clearing).\n",
              "Using a mean interval of 350 years almost certainly underestimates the period between stand-replacing disturbances in CTR; large-scale, stand-replacing disturbances such as lightning-caused fires and wind events are likely to be much less frequent.\n",
              "Although large-scale disturbances such as wind, fire, and insect outbreaks characterize boreal and temperate interior forests in Western North America, temperate rainforest ecosystems\n",
              "in the coastal temperate rainforest (CTR) of North America are generally dominated by small-scale, multicohort disturbances such as standing tree mortalities or single-tree fall.<br></br></p><hr>"
            ]
          },
          "metadata": {}
        },
        {
          "name": "stdout",
          "output_type": "stream",
          "text": [
            "\n",
            "Hi, what would you like to know ? (type 'quit' to end session)\n",
            "tree mortalities\n",
            "\n",
            "Specify the max number of sentences.\n",
            "3\n"
          ]
        },
        {
          "output_type": "display_data",
          "data": {
            "text/plain": [
              "<IPython.core.display.HTML object>"
            ],
            "text/html": [
              "<h3 style=\"color: #036137;\">Answer - tree mortalities</h3>"
            ]
          },
          "metadata": {}
        },
        {
          "output_type": "display_data",
          "data": {
            "text/plain": [
              "<IPython.core.display.HTML object>"
            ],
            "text/html": [
              "<p>We found no evidence of widespread tree cohort establishment, indicating that small-scale disturbances such as individual tree mortality and gap-forming dynamics are likely the most frequent disturbance in the study area.\n",
              "Our dendrochronological analyses sampled across four vegetation types characterized by a gradient of productivity revealed: (1) Forests were all multiage stands indicating fine-scale mortality events are the most common disturbance type, (2) rot-resistant standing dead western redcedar and yellow-cedar trees were commonplace, (3) tree size increased along the drainage gradient from blanket bogs to zonal forests, (4) the age, density, and species of trees regenerating were related to disturbance and life-history characteristics, and (5) old-growth trees were characterized by a range of heights and diameters, and legacy trees (those exceeding 1000 years) were most common in the bog forest and bog woodland vegetation types.\n",
              "Gap-forming disturbances as a result of tree mortality (standing dead or fallen trees) affect large portions of old-growth temperate rainforests annually, and millennia of these small-scale disturbances coupled with conifer adaptations to withstand disease and fungal pathogens have promoted old growth, multi-age forests across the northern CTR.<br></br></p><hr>"
            ]
          },
          "metadata": {}
        },
        {
          "name": "stdout",
          "output_type": "stream",
          "text": [
            "\n",
            "Hi, what would you like to know ? (type 'quit' to end session)\n",
            "shade\n",
            "\n",
            "Specify the max number of sentences.\n",
            "3\n",
            "\nIt seems I don't have this info. Please try another phrasing.\n",
            "\n",
            "Hi, what would you like to know ? (type 'quit' to end session)\n",
            "tolerant\n",
            "\n",
            "Specify the max number of sentences.\n",
            "3\n"
          ]
        },
        {
          "output_type": "display_data",
          "data": {
            "text/plain": [
              "<IPython.core.display.HTML object>"
            ],
            "text/html": [
              "<h3 style=\"color: #036137;\">Answer - tolerant</h3>"
            ]
          },
          "metadata": {}
        },
        {
          "output_type": "display_data",
          "data": {
            "text/plain": [
              "<IPython.core.display.HTML object>"
            ],
            "text/html": [
              "<p>This suggests that western hemlock may be more shade tolerant or have greater physiological plasticity than western redcedar and yellow-cedar.\n",
              "contorta Douglas ex Loudon).\n",
              "All saplings (<7.5 cm dbh, >15 cm height) and seedlings (<15 cm height) were characterized (by species, height, and dbh), counted, and then destructively sampled in five, 4-m2 subplots.<br></br></p><hr>"
            ]
          },
          "metadata": {}
        },
        {
          "name": "stdout",
          "output_type": "stream",
          "text": [
            "\n",
            "Hi, what would you like to know ? (type 'quit' to end session)\n",
            "carbon\n",
            "\n",
            "Specify the max number of sentences.\n",
            "10\n"
          ]
        },
        {
          "output_type": "display_data",
          "data": {
            "text/plain": [
              "<IPython.core.display.HTML object>"
            ],
            "text/html": [
              "<h3 style=\"color: #036137;\">Answer - carbon</h3>"
            ]
          },
          "metadata": {}
        },
        {
          "output_type": "display_data",
          "data": {
            "text/plain": [
              "<IPython.core.display.HTML object>"
            ],
            "text/html": [
              "<p>Information on old-growth forest structure in hypermaritime temperate rainforests on the coastal margin of BC is scarce despite their importance for wildlife, soil carbon storage, and exports of dissolved organic carbon, which provide energy subsidies to marine environments.\n",
              "Despite low timber values, these old-growth hypermaritime forests contain large soil carbon stores and distinct biodiversity.\n",
              "The 12 plots contained no visible aboveground or belowground evidence of recent stand-replacing disturbances (fire, wind, mass wasting) or documented historical resource management by First Nations (culturally modified trees, shell middens, fire, land clearing).\n",
              "In the laboratory, tree cores (from trees >7.5 cm dbh) and sapling disks (from trees <7.5 cm dbh) were processed using standard dendrochronological techniques.\n",
              "All saplings (<7.5 cm dbh, >15 cm height) and seedlings (<15 cm height) were characterized (by species, height, and dbh), counted, and then destructively sampled in five, 4-m2 subplots.\n",
              "In addition, the density of stems per hectare of all shade-tolerant and shade-intolerant trees was used to assess the relationship between tree height, dbh, and age.\n",
              "The age of trees, density of stems per hectare, dbh, and presence of dead standing trees were sampled to define oldgrowth characteristics in each plot.\n",
              "The dbh of all trees was measured at 1.3 m from the tree base and the tree height, tree species, and tree health were also recorded.\n",
              "Tree cores were sampled from bark to pith perpendicular to the slope to avoid reaction wood.\n",
              "In all plots two, 5 mm diameter increment cores were sampled from the bases (~15 cm height) and two from the breast height (~1.3 m) of all trees >7.5 cm diameter at breast height (dbh).<br></br></p><hr>"
            ]
          },
          "metadata": {}
        },
        {
          "name": "stdout",
          "output_type": "stream",
          "text": [
            "\n",
            "Hi, what would you like to know ? (type 'quit' to end session)\n",
            "quit\n"
          ]
        }
      ]
    },
    {
      "cell_type": "code",
      "source": [],
      "metadata": {
        "id": "cvPI51uMHaHi"
      },
      "execution_count": null,
      "outputs": []
    },
    {
      "cell_type": "code",
      "source": [],
      "metadata": {
        "id": "sFsdJB0GII8n"
      },
      "execution_count": null,
      "outputs": []
    }
  ]
}
