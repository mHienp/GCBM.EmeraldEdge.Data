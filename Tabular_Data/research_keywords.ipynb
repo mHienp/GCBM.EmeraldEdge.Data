{
  "nbformat": 4,
  "nbformat_minor": 0,
  "metadata": {
    "colab": {
      "provenance": []
    },
    "kernelspec": {
      "name": "python3",
      "display_name": "Python 3"
    },
    "language_info": {
      "name": "python"
    }
  },
  "cells": [
    {
      "cell_type": "code",
      "source": [
        "# Perform literature search in Research Gate, Semantic Scholar, Google Scholar or other sites\n",
        "site = ['researchgate', 'semanticscholar']\n",
        "\n",
        "# Figure out main tree species in the forest area of research\n",
        "species = ['western hemlock', 'mountain hemlock', 'yellow-cedar', 'western redcedar',\n",
        "           'pacific silver fir', 'douglas-fir', 'sitka spruce']\n",
        "\n",
        "# Keywords\n",
        "terms = ['AGB increment forest', 'stand growth curve forest', 'stand dynamics forest',\n",
        "       'merchantable volume forest', 'biomass dynamics forest\\n']\n",
        "\n",
        "# Search terms \n",
        "search = []\n",
        "\n",
        "for i in site:\n",
        "    for j in species:\n",
        "        for k in terms:\n",
        "            search.append(i + \" \" + j + \" \" + k)\n",
        "print(\"\\n\".join(search))"
      ],
      "metadata": {
        "colab": {
          "base_uri": "https://localhost:8080/"
        },
        "id": "e2oEbRPA4Jh-",
        "outputId": "2773f5e6-a0dd-4126-c7eb-02e9f49248f4"
      },
      "execution_count": 109,
      "outputs": [
        {
          "output_type": "stream",
          "name": "stdout",
          "text": [
            "researchgate western hemlock AGB increment forest\n",
            "researchgate western hemlock stand growth curve forest\n",
            "researchgate western hemlock stand dynamics forest\n",
            "researchgate western hemlock merchantable volume forest\n",
            "researchgate western hemlock biomass dynamics forest\n",
            "\n",
            "researchgate mountain hemlock AGB increment forest\n",
            "researchgate mountain hemlock stand growth curve forest\n",
            "researchgate mountain hemlock stand dynamics forest\n",
            "researchgate mountain hemlock merchantable volume forest\n",
            "researchgate mountain hemlock biomass dynamics forest\n",
            "\n",
            "researchgate yellow-cedar AGB increment forest\n",
            "researchgate yellow-cedar stand growth curve forest\n",
            "researchgate yellow-cedar stand dynamics forest\n",
            "researchgate yellow-cedar merchantable volume forest\n",
            "researchgate yellow-cedar biomass dynamics forest\n",
            "\n",
            "researchgate western redcedar AGB increment forest\n",
            "researchgate western redcedar stand growth curve forest\n",
            "researchgate western redcedar stand dynamics forest\n",
            "researchgate western redcedar merchantable volume forest\n",
            "researchgate western redcedar biomass dynamics forest\n",
            "\n",
            "researchgate pacific silver fir AGB increment forest\n",
            "researchgate pacific silver fir stand growth curve forest\n",
            "researchgate pacific silver fir stand dynamics forest\n",
            "researchgate pacific silver fir merchantable volume forest\n",
            "researchgate pacific silver fir biomass dynamics forest\n",
            "\n",
            "researchgate douglas-fir AGB increment forest\n",
            "researchgate douglas-fir stand growth curve forest\n",
            "researchgate douglas-fir stand dynamics forest\n",
            "researchgate douglas-fir merchantable volume forest\n",
            "researchgate douglas-fir biomass dynamics forest\n",
            "\n",
            "researchgate sitka spruce AGB increment forest\n",
            "researchgate sitka spruce stand growth curve forest\n",
            "researchgate sitka spruce stand dynamics forest\n",
            "researchgate sitka spruce merchantable volume forest\n",
            "researchgate sitka spruce biomass dynamics forest\n",
            "\n",
            "semanticscholar western hemlock AGB increment forest\n",
            "semanticscholar western hemlock stand growth curve forest\n",
            "semanticscholar western hemlock stand dynamics forest\n",
            "semanticscholar western hemlock merchantable volume forest\n",
            "semanticscholar western hemlock biomass dynamics forest\n",
            "\n",
            "semanticscholar mountain hemlock AGB increment forest\n",
            "semanticscholar mountain hemlock stand growth curve forest\n",
            "semanticscholar mountain hemlock stand dynamics forest\n",
            "semanticscholar mountain hemlock merchantable volume forest\n",
            "semanticscholar mountain hemlock biomass dynamics forest\n",
            "\n",
            "semanticscholar yellow-cedar AGB increment forest\n",
            "semanticscholar yellow-cedar stand growth curve forest\n",
            "semanticscholar yellow-cedar stand dynamics forest\n",
            "semanticscholar yellow-cedar merchantable volume forest\n",
            "semanticscholar yellow-cedar biomass dynamics forest\n",
            "\n",
            "semanticscholar western redcedar AGB increment forest\n",
            "semanticscholar western redcedar stand growth curve forest\n",
            "semanticscholar western redcedar stand dynamics forest\n",
            "semanticscholar western redcedar merchantable volume forest\n",
            "semanticscholar western redcedar biomass dynamics forest\n",
            "\n",
            "semanticscholar pacific silver fir AGB increment forest\n",
            "semanticscholar pacific silver fir stand growth curve forest\n",
            "semanticscholar pacific silver fir stand dynamics forest\n",
            "semanticscholar pacific silver fir merchantable volume forest\n",
            "semanticscholar pacific silver fir biomass dynamics forest\n",
            "\n",
            "semanticscholar douglas-fir AGB increment forest\n",
            "semanticscholar douglas-fir stand growth curve forest\n",
            "semanticscholar douglas-fir stand dynamics forest\n",
            "semanticscholar douglas-fir merchantable volume forest\n",
            "semanticscholar douglas-fir biomass dynamics forest\n",
            "\n",
            "semanticscholar sitka spruce AGB increment forest\n",
            "semanticscholar sitka spruce stand growth curve forest\n",
            "semanticscholar sitka spruce stand dynamics forest\n",
            "semanticscholar sitka spruce merchantable volume forest\n",
            "semanticscholar sitka spruce biomass dynamics forest\n",
            "\n"
          ]
        }
      ]
    },
    {
      "cell_type": "code",
      "source": [],
      "metadata": {
        "id": "TDTXD8pP4aCQ"
      },
      "execution_count": null,
      "outputs": []
    }
  ]
}